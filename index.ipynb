{
 "cells": [
  {
   "cell_type": "markdown",
   "id": "79e761a7",
   "metadata": {},
   "source": [
    "# AVIATION ACCIDENTS"
   ]
  },
  {
   "cell_type": "markdown",
   "id": "1b6be8e4",
   "metadata": {},
   "source": [
    "## Business Understanding "
   ]
  },
  {
   "cell_type": "markdown",
   "id": "53e34266",
   "metadata": {},
   "source": [
    "Business Problem: My company is expanding into the aviation industry but lacks insights into aircraft safety risks. This analysis identifies the lowest-risk aircraft models for commercial and private use."
   ]
  },
  {
   "cell_type": "markdown",
   "id": "723543af",
   "metadata": {},
   "source": [
    "## Problem Statement"
   ]
  },
  {
   "cell_type": "markdown",
   "id": "75aa6b30",
   "metadata": {},
   "source": [
    "The aviation industry may be able to improve safety measures by analyzing accident data to identify patterns in aircraft damage and fatality rates. Doing so will allow airlines, manufacturers, and regulatory agencies to better understand risk factors and implement strategies to enhance aviation safety. Using aircraft accident data, I will examine key trends to determine which aircraft models demonstrate strong safety records and provide actionable insights for improving aviation safety standards."
   ]
  },
  {
   "cell_type": "markdown",
   "id": "409ad1c2",
   "metadata": {},
   "source": [
    "### Business Objectives \n",
    "1.Which aircraft models have the highest fatality rates?\n",
    "\n",
    "2.Try and find the leading cause of aviation accidents?\n",
    "\n",
    "3.Trends in aviation fatalities over the years?\n",
    "\n",
    "4.Recomend actions to help mitigate/prevent aviation accidents and incedents?"
   ]
  },
  {
   "cell_type": "markdown",
   "id": "fcb622aa",
   "metadata": {},
   "source": [
    "### Data Understanding"
   ]
  },
  {
   "cell_type": "code",
   "execution_count": 62,
   "id": "212dd060",
   "metadata": {},
   "outputs": [],
   "source": [
    "import pandas as pd\n",
    "import numpy as np\n",
    "import matplotlib.pyplot as plt\n"
   ]
  },
  {
   "cell_type": "code",
   "execution_count": 63,
   "id": "534cddfb",
   "metadata": {},
   "outputs": [
    {
     "data": {
      "text/html": [
       "<div>\n",
       "<style scoped>\n",
       "    .dataframe tbody tr th:only-of-type {\n",
       "        vertical-align: middle;\n",
       "    }\n",
       "\n",
       "    .dataframe tbody tr th {\n",
       "        vertical-align: top;\n",
       "    }\n",
       "\n",
       "    .dataframe thead th {\n",
       "        text-align: right;\n",
       "    }\n",
       "</style>\n",
       "<table border=\"1\" class=\"dataframe\">\n",
       "  <thead>\n",
       "    <tr style=\"text-align: right;\">\n",
       "      <th></th>\n",
       "      <th>date</th>\n",
       "      <th>type</th>\n",
       "      <th>registration</th>\n",
       "      <th>operator</th>\n",
       "      <th>fatalities</th>\n",
       "      <th>location</th>\n",
       "      <th>country</th>\n",
       "      <th>cat</th>\n",
       "      <th>year</th>\n",
       "    </tr>\n",
       "  </thead>\n",
       "  <tbody>\n",
       "    <tr>\n",
       "      <th>0</th>\n",
       "      <td>date unk.</td>\n",
       "      <td>Antonov An-12B</td>\n",
       "      <td>T-1206</td>\n",
       "      <td>Indonesian AF</td>\n",
       "      <td>NaN</td>\n",
       "      <td>NaN</td>\n",
       "      <td>Unknown country</td>\n",
       "      <td>U1</td>\n",
       "      <td>unknown</td>\n",
       "    </tr>\n",
       "    <tr>\n",
       "      <th>1</th>\n",
       "      <td>date unk.</td>\n",
       "      <td>Antonov An-12B</td>\n",
       "      <td>T-1204</td>\n",
       "      <td>Indonesian AF</td>\n",
       "      <td>NaN</td>\n",
       "      <td>NaN</td>\n",
       "      <td>Unknown country</td>\n",
       "      <td>U1</td>\n",
       "      <td>unknown</td>\n",
       "    </tr>\n",
       "    <tr>\n",
       "      <th>2</th>\n",
       "      <td>date unk.</td>\n",
       "      <td>Antonov An-12B</td>\n",
       "      <td>T-1201</td>\n",
       "      <td>Indonesian AF</td>\n",
       "      <td>NaN</td>\n",
       "      <td>NaN</td>\n",
       "      <td>Unknown country</td>\n",
       "      <td>U1</td>\n",
       "      <td>unknown</td>\n",
       "    </tr>\n",
       "    <tr>\n",
       "      <th>3</th>\n",
       "      <td>date unk.</td>\n",
       "      <td>Antonov An-12BK</td>\n",
       "      <td>NaN</td>\n",
       "      <td>Soviet AF</td>\n",
       "      <td>NaN</td>\n",
       "      <td>Tiksi Airport (IKS)</td>\n",
       "      <td>Russia</td>\n",
       "      <td>A1</td>\n",
       "      <td>unknown</td>\n",
       "    </tr>\n",
       "    <tr>\n",
       "      <th>4</th>\n",
       "      <td>date unk.</td>\n",
       "      <td>Antonov An-12BP</td>\n",
       "      <td>CCCP-11815</td>\n",
       "      <td>Soviet AF</td>\n",
       "      <td>0</td>\n",
       "      <td>Massawa Airport ...</td>\n",
       "      <td>Eritrea</td>\n",
       "      <td>A1</td>\n",
       "      <td>unknown</td>\n",
       "    </tr>\n",
       "  </tbody>\n",
       "</table>\n",
       "</div>"
      ],
      "text/plain": [
       "        date             type registration       operator fatalities  \\\n",
       "0  date unk.   Antonov An-12B       T-1206  Indonesian AF        NaN   \n",
       "1  date unk.   Antonov An-12B       T-1204  Indonesian AF        NaN   \n",
       "2  date unk.   Antonov An-12B       T-1201  Indonesian AF        NaN   \n",
       "3  date unk.  Antonov An-12BK          NaN      Soviet AF        NaN   \n",
       "4  date unk.  Antonov An-12BP   CCCP-11815      Soviet AF          0   \n",
       "\n",
       "              location          country cat     year  \n",
       "0                  NaN  Unknown country  U1  unknown  \n",
       "1                  NaN  Unknown country  U1  unknown  \n",
       "2                  NaN  Unknown country  U1  unknown  \n",
       "3  Tiksi Airport (IKS)           Russia  A1  unknown  \n",
       "4  Massawa Airport ...          Eritrea  A1  unknown  "
      ]
     },
     "execution_count": 63,
     "metadata": {},
     "output_type": "execute_result"
    }
   ],
   "source": [
    "df = pd.read_csv(\"aviation-accident-data-2023-05-16.csv\")\n",
    "df.head()"
   ]
  },
  {
   "cell_type": "code",
   "execution_count": 64,
   "id": "e02b56a6",
   "metadata": {},
   "outputs": [
    {
     "name": "stdout",
     "output_type": "stream",
     "text": [
      "<class 'pandas.core.frame.DataFrame'>\n",
      "RangeIndex: 23967 entries, 0 to 23966\n",
      "Data columns (total 9 columns):\n",
      " #   Column        Non-Null Count  Dtype \n",
      "---  ------        --------------  ----- \n",
      " 0   date          23967 non-null  object\n",
      " 1   type          23967 non-null  object\n",
      " 2   registration  22419 non-null  object\n",
      " 3   operator      23963 non-null  object\n",
      " 4   fatalities    20029 non-null  object\n",
      " 5   location      23019 non-null  object\n",
      " 6   country       23967 non-null  object\n",
      " 7   cat           23967 non-null  object\n",
      " 8   year          23967 non-null  object\n",
      "dtypes: object(9)\n",
      "memory usage: 1.6+ MB\n"
     ]
    }
   ],
   "source": [
    "df.info()"
   ]
  },
  {
   "cell_type": "code",
   "execution_count": 65,
   "id": "0f784343",
   "metadata": {},
   "outputs": [
    {
     "data": {
      "text/html": [
       "<div>\n",
       "<style scoped>\n",
       "    .dataframe tbody tr th:only-of-type {\n",
       "        vertical-align: middle;\n",
       "    }\n",
       "\n",
       "    .dataframe tbody tr th {\n",
       "        vertical-align: top;\n",
       "    }\n",
       "\n",
       "    .dataframe thead th {\n",
       "        text-align: right;\n",
       "    }\n",
       "</style>\n",
       "<table border=\"1\" class=\"dataframe\">\n",
       "  <thead>\n",
       "    <tr style=\"text-align: right;\">\n",
       "      <th></th>\n",
       "      <th>date</th>\n",
       "      <th>type</th>\n",
       "      <th>registration</th>\n",
       "      <th>operator</th>\n",
       "      <th>fatalities</th>\n",
       "      <th>location</th>\n",
       "      <th>country</th>\n",
       "      <th>cat</th>\n",
       "      <th>year</th>\n",
       "    </tr>\n",
       "  </thead>\n",
       "  <tbody>\n",
       "    <tr>\n",
       "      <th>count</th>\n",
       "      <td>23967</td>\n",
       "      <td>23967</td>\n",
       "      <td>22419</td>\n",
       "      <td>23963</td>\n",
       "      <td>20029</td>\n",
       "      <td>23019</td>\n",
       "      <td>23967</td>\n",
       "      <td>23967</td>\n",
       "      <td>23967</td>\n",
       "    </tr>\n",
       "    <tr>\n",
       "      <th>unique</th>\n",
       "      <td>15079</td>\n",
       "      <td>3201</td>\n",
       "      <td>21962</td>\n",
       "      <td>6017</td>\n",
       "      <td>369</td>\n",
       "      <td>14608</td>\n",
       "      <td>232</td>\n",
       "      <td>11</td>\n",
       "      <td>106</td>\n",
       "    </tr>\n",
       "    <tr>\n",
       "      <th>top</th>\n",
       "      <td>10-MAY-1940</td>\n",
       "      <td>Douglas C-47A (DC-3)</td>\n",
       "      <td>LZ-...</td>\n",
       "      <td>USAAF</td>\n",
       "      <td>0</td>\n",
       "      <td>unknown</td>\n",
       "      <td>USA</td>\n",
       "      <td>A1</td>\n",
       "      <td>1944</td>\n",
       "    </tr>\n",
       "    <tr>\n",
       "      <th>freq</th>\n",
       "      <td>171</td>\n",
       "      <td>1916</td>\n",
       "      <td>13</td>\n",
       "      <td>2604</td>\n",
       "      <td>10713</td>\n",
       "      <td>272</td>\n",
       "      <td>4377</td>\n",
       "      <td>17424</td>\n",
       "      <td>1505</td>\n",
       "    </tr>\n",
       "  </tbody>\n",
       "</table>\n",
       "</div>"
      ],
      "text/plain": [
       "               date                  type registration operator fatalities  \\\n",
       "count         23967                 23967        22419    23963      20029   \n",
       "unique        15079                  3201        21962     6017        369   \n",
       "top     10-MAY-1940  Douglas C-47A (DC-3)       LZ-...    USAAF          0   \n",
       "freq            171                  1916           13     2604      10713   \n",
       "\n",
       "       location country    cat   year  \n",
       "count     23019   23967  23967  23967  \n",
       "unique    14608     232     11    106  \n",
       "top     unknown     USA     A1   1944  \n",
       "freq        272    4377  17424   1505  "
      ]
     },
     "execution_count": 65,
     "metadata": {},
     "output_type": "execute_result"
    }
   ],
   "source": [
    "df.describe()"
   ]
  },
  {
   "cell_type": "code",
   "execution_count": 66,
   "id": "6a4e3916",
   "metadata": {},
   "outputs": [
    {
     "data": {
      "text/plain": [
       "(23967, 9)"
      ]
     },
     "execution_count": 66,
     "metadata": {},
     "output_type": "execute_result"
    }
   ],
   "source": [
    "df.shape"
   ]
  },
  {
   "cell_type": "markdown",
   "id": "89190b2f",
   "metadata": {},
   "source": [
    "### Data Cleaning"
   ]
  },
  {
   "cell_type": "code",
   "execution_count": 67,
   "id": "a2b5b1a4",
   "metadata": {},
   "outputs": [
    {
     "data": {
      "text/plain": [
       "False    23852\n",
       "True       115\n",
       "dtype: int64"
      ]
     },
     "execution_count": 67,
     "metadata": {},
     "output_type": "execute_result"
    }
   ],
   "source": [
    "# check for duplicated values \n",
    "df.duplicated().value_counts()\n"
   ]
  },
  {
   "cell_type": "code",
   "execution_count": 68,
   "id": "cf964c28",
   "metadata": {},
   "outputs": [
    {
     "data": {
      "text/html": [
       "<div>\n",
       "<style scoped>\n",
       "    .dataframe tbody tr th:only-of-type {\n",
       "        vertical-align: middle;\n",
       "    }\n",
       "\n",
       "    .dataframe tbody tr th {\n",
       "        vertical-align: top;\n",
       "    }\n",
       "\n",
       "    .dataframe thead th {\n",
       "        text-align: right;\n",
       "    }\n",
       "</style>\n",
       "<table border=\"1\" class=\"dataframe\">\n",
       "  <thead>\n",
       "    <tr style=\"text-align: right;\">\n",
       "      <th></th>\n",
       "      <th>date</th>\n",
       "      <th>type</th>\n",
       "      <th>registration</th>\n",
       "      <th>operator</th>\n",
       "      <th>fatalities</th>\n",
       "      <th>location</th>\n",
       "      <th>country</th>\n",
       "      <th>cat</th>\n",
       "      <th>year</th>\n",
       "    </tr>\n",
       "  </thead>\n",
       "  <tbody>\n",
       "    <tr>\n",
       "      <th>542</th>\n",
       "      <td>13-APR-1940</td>\n",
       "      <td>Junkers Ju-52/3m</td>\n",
       "      <td>NaN</td>\n",
       "      <td>German AF</td>\n",
       "      <td>NaN</td>\n",
       "      <td>Gangsoya, Sogn o...</td>\n",
       "      <td>Norway</td>\n",
       "      <td>A1</td>\n",
       "      <td>1940</td>\n",
       "    </tr>\n",
       "    <tr>\n",
       "      <th>560</th>\n",
       "      <td>29-APR-1940</td>\n",
       "      <td>Junkers Ju-52/3m</td>\n",
       "      <td>NaN</td>\n",
       "      <td>German AF</td>\n",
       "      <td>0</td>\n",
       "      <td>Oslo-Fornebu Air...</td>\n",
       "      <td>Norway</td>\n",
       "      <td>A1</td>\n",
       "      <td>1940</td>\n",
       "    </tr>\n",
       "    <tr>\n",
       "      <th>568</th>\n",
       "      <td>10-MAY-1940</td>\n",
       "      <td>Junkers Ju-52/3m</td>\n",
       "      <td>NaN</td>\n",
       "      <td>German AF</td>\n",
       "      <td>NaN</td>\n",
       "      <td>Waalhaven</td>\n",
       "      <td>Netherlands</td>\n",
       "      <td>A1</td>\n",
       "      <td>1940</td>\n",
       "    </tr>\n",
       "    <tr>\n",
       "      <th>577</th>\n",
       "      <td>10-MAY-1940</td>\n",
       "      <td>Junkers Ju-52/3m</td>\n",
       "      <td>NaN</td>\n",
       "      <td>German AF</td>\n",
       "      <td>NaN</td>\n",
       "      <td>near Den Haag</td>\n",
       "      <td>Netherlands</td>\n",
       "      <td>A1</td>\n",
       "      <td>1940</td>\n",
       "    </tr>\n",
       "    <tr>\n",
       "      <th>579</th>\n",
       "      <td>10-MAY-1940</td>\n",
       "      <td>Junkers Ju-52/3m</td>\n",
       "      <td>NaN</td>\n",
       "      <td>German AF</td>\n",
       "      <td>NaN</td>\n",
       "      <td>Waalhaven</td>\n",
       "      <td>Netherlands</td>\n",
       "      <td>A1</td>\n",
       "      <td>1940</td>\n",
       "    </tr>\n",
       "    <tr>\n",
       "      <th>580</th>\n",
       "      <td>10-MAY-1940</td>\n",
       "      <td>Junkers Ju-52/3m</td>\n",
       "      <td>NaN</td>\n",
       "      <td>German AF</td>\n",
       "      <td>NaN</td>\n",
       "      <td>near Den Haag</td>\n",
       "      <td>Netherlands</td>\n",
       "      <td>A1</td>\n",
       "      <td>1940</td>\n",
       "    </tr>\n",
       "    <tr>\n",
       "      <th>581</th>\n",
       "      <td>10-MAY-1940</td>\n",
       "      <td>Junkers Ju-52/3m</td>\n",
       "      <td>NaN</td>\n",
       "      <td>German AF</td>\n",
       "      <td>NaN</td>\n",
       "      <td>near Den Haag</td>\n",
       "      <td>Netherlands</td>\n",
       "      <td>A1</td>\n",
       "      <td>1940</td>\n",
       "    </tr>\n",
       "    <tr>\n",
       "      <th>582</th>\n",
       "      <td>10-MAY-1940</td>\n",
       "      <td>Junkers Ju-52/3m</td>\n",
       "      <td>NaN</td>\n",
       "      <td>German AF</td>\n",
       "      <td>NaN</td>\n",
       "      <td>near Den Haag</td>\n",
       "      <td>Netherlands</td>\n",
       "      <td>A1</td>\n",
       "      <td>1940</td>\n",
       "    </tr>\n",
       "    <tr>\n",
       "      <th>584</th>\n",
       "      <td>10-MAY-1940</td>\n",
       "      <td>Junkers Ju-52/3m</td>\n",
       "      <td>NaN</td>\n",
       "      <td>German AF</td>\n",
       "      <td>NaN</td>\n",
       "      <td>Waalhaven</td>\n",
       "      <td>Netherlands</td>\n",
       "      <td>A1</td>\n",
       "      <td>1940</td>\n",
       "    </tr>\n",
       "    <tr>\n",
       "      <th>585</th>\n",
       "      <td>10-MAY-1940</td>\n",
       "      <td>Junkers Ju-52/3m</td>\n",
       "      <td>NaN</td>\n",
       "      <td>German AF</td>\n",
       "      <td>NaN</td>\n",
       "      <td>near Den Haag</td>\n",
       "      <td>Netherlands</td>\n",
       "      <td>A1</td>\n",
       "      <td>1940</td>\n",
       "    </tr>\n",
       "    <tr>\n",
       "      <th>587</th>\n",
       "      <td>10-MAY-1940</td>\n",
       "      <td>Junkers Ju-52/3m</td>\n",
       "      <td>NaN</td>\n",
       "      <td>German AF</td>\n",
       "      <td>NaN</td>\n",
       "      <td>near Den Haag</td>\n",
       "      <td>Netherlands</td>\n",
       "      <td>A1</td>\n",
       "      <td>1940</td>\n",
       "    </tr>\n",
       "    <tr>\n",
       "      <th>588</th>\n",
       "      <td>10-MAY-1940</td>\n",
       "      <td>Junkers Ju-52/3m</td>\n",
       "      <td>NaN</td>\n",
       "      <td>German AF</td>\n",
       "      <td>NaN</td>\n",
       "      <td>near Den Haag</td>\n",
       "      <td>Netherlands</td>\n",
       "      <td>A1</td>\n",
       "      <td>1940</td>\n",
       "    </tr>\n",
       "    <tr>\n",
       "      <th>589</th>\n",
       "      <td>10-MAY-1940</td>\n",
       "      <td>Junkers Ju-52/3m</td>\n",
       "      <td>NaN</td>\n",
       "      <td>German AF</td>\n",
       "      <td>NaN</td>\n",
       "      <td>Waalhaven</td>\n",
       "      <td>Netherlands</td>\n",
       "      <td>A1</td>\n",
       "      <td>1940</td>\n",
       "    </tr>\n",
       "    <tr>\n",
       "      <th>590</th>\n",
       "      <td>10-MAY-1940</td>\n",
       "      <td>Junkers Ju-52/3m</td>\n",
       "      <td>NaN</td>\n",
       "      <td>German AF</td>\n",
       "      <td>NaN</td>\n",
       "      <td>Waalhaven</td>\n",
       "      <td>Netherlands</td>\n",
       "      <td>A1</td>\n",
       "      <td>1940</td>\n",
       "    </tr>\n",
       "    <tr>\n",
       "      <th>605</th>\n",
       "      <td>10-MAY-1940</td>\n",
       "      <td>Junkers Ju-52/3m</td>\n",
       "      <td>NaN</td>\n",
       "      <td>German AF</td>\n",
       "      <td>NaN</td>\n",
       "      <td>Waalhaven</td>\n",
       "      <td>Netherlands</td>\n",
       "      <td>A1</td>\n",
       "      <td>1940</td>\n",
       "    </tr>\n",
       "  </tbody>\n",
       "</table>\n",
       "</div>"
      ],
      "text/plain": [
       "            date              type registration   operator fatalities  \\\n",
       "542  13-APR-1940  Junkers Ju-52/3m          NaN  German AF        NaN   \n",
       "560  29-APR-1940  Junkers Ju-52/3m          NaN  German AF          0   \n",
       "568  10-MAY-1940  Junkers Ju-52/3m          NaN  German AF        NaN   \n",
       "577  10-MAY-1940  Junkers Ju-52/3m          NaN  German AF        NaN   \n",
       "579  10-MAY-1940  Junkers Ju-52/3m          NaN  German AF        NaN   \n",
       "580  10-MAY-1940  Junkers Ju-52/3m          NaN  German AF        NaN   \n",
       "581  10-MAY-1940  Junkers Ju-52/3m          NaN  German AF        NaN   \n",
       "582  10-MAY-1940  Junkers Ju-52/3m          NaN  German AF        NaN   \n",
       "584  10-MAY-1940  Junkers Ju-52/3m          NaN  German AF        NaN   \n",
       "585  10-MAY-1940  Junkers Ju-52/3m          NaN  German AF        NaN   \n",
       "587  10-MAY-1940  Junkers Ju-52/3m          NaN  German AF        NaN   \n",
       "588  10-MAY-1940  Junkers Ju-52/3m          NaN  German AF        NaN   \n",
       "589  10-MAY-1940  Junkers Ju-52/3m          NaN  German AF        NaN   \n",
       "590  10-MAY-1940  Junkers Ju-52/3m          NaN  German AF        NaN   \n",
       "605  10-MAY-1940  Junkers Ju-52/3m          NaN  German AF        NaN   \n",
       "\n",
       "                location      country cat  year  \n",
       "542  Gangsoya, Sogn o...       Norway  A1  1940  \n",
       "560  Oslo-Fornebu Air...       Norway  A1  1940  \n",
       "568            Waalhaven  Netherlands  A1  1940  \n",
       "577        near Den Haag  Netherlands  A1  1940  \n",
       "579            Waalhaven  Netherlands  A1  1940  \n",
       "580        near Den Haag  Netherlands  A1  1940  \n",
       "581        near Den Haag  Netherlands  A1  1940  \n",
       "582        near Den Haag  Netherlands  A1  1940  \n",
       "584            Waalhaven  Netherlands  A1  1940  \n",
       "585        near Den Haag  Netherlands  A1  1940  \n",
       "587        near Den Haag  Netherlands  A1  1940  \n",
       "588        near Den Haag  Netherlands  A1  1940  \n",
       "589            Waalhaven  Netherlands  A1  1940  \n",
       "590            Waalhaven  Netherlands  A1  1940  \n",
       "605            Waalhaven  Netherlands  A1  1940  "
      ]
     },
     "execution_count": 68,
     "metadata": {},
     "output_type": "execute_result"
    }
   ],
   "source": [
    " #View duplicates \n",
    "df[df.duplicated()].head(15)"
   ]
  },
  {
   "cell_type": "code",
   "execution_count": 69,
   "id": "7b75be80",
   "metadata": {},
   "outputs": [],
   "source": [
    "# removing  duplicated values \n",
    "df = df.drop_duplicates()"
   ]
  },
  {
   "cell_type": "code",
   "execution_count": 70,
   "id": "83302c53",
   "metadata": {},
   "outputs": [
    {
     "data": {
      "text/plain": [
       "False    23852\n",
       "dtype: int64"
      ]
     },
     "execution_count": 70,
     "metadata": {},
     "output_type": "execute_result"
    }
   ],
   "source": [
    "# verify that they have been removed\n",
    "\n",
    "df.duplicated().value_counts()"
   ]
  },
  {
   "cell_type": "code",
   "execution_count": 71,
   "id": "fd354161",
   "metadata": {},
   "outputs": [
    {
     "data": {
      "text/plain": [
       "Index(['date', 'type', 'registration', 'operator', 'fatalities', 'location',\n",
       "       'country', 'cat', 'year'],\n",
       "      dtype='object')"
      ]
     },
     "execution_count": 71,
     "metadata": {},
     "output_type": "execute_result"
    }
   ],
   "source": [
    "# gives the columns names in the dataset\n",
    "df.columns"
   ]
  },
  {
   "cell_type": "markdown",
   "id": "905af77f",
   "metadata": {},
   "source": [
    "### Dealing with missing values"
   ]
  },
  {
   "cell_type": "markdown",
   "id": "c8492cda",
   "metadata": {},
   "source": [
    "#### Detecting Null Values"
   ]
  },
  {
   "cell_type": "code",
   "execution_count": 72,
   "id": "8ddd6f56",
   "metadata": {},
   "outputs": [
    {
     "data": {
      "text/plain": [
       "date               0\n",
       "type               0\n",
       "registration    1434\n",
       "operator           4\n",
       "fatalities      3833\n",
       "location         932\n",
       "country            0\n",
       "cat                0\n",
       "year               0\n",
       "dtype: int64"
      ]
     },
     "execution_count": 72,
     "metadata": {},
     "output_type": "execute_result"
    }
   ],
   "source": [
    "# detecting null  values \n",
    "#isnull\n",
    "\n",
    "df.isna().sum()"
   ]
  },
  {
   "cell_type": "markdown",
   "id": "6afea6e0",
   "metadata": {},
   "source": [
    "### Handling missing value"
   ]
  },
  {
   "cell_type": "code",
   "execution_count": 73,
   "id": "323adaed",
   "metadata": {},
   "outputs": [
    {
     "data": {
      "text/plain": [
       "date               0\n",
       "type               0\n",
       "registration    1434\n",
       "operator           0\n",
       "fatalities      3833\n",
       "location         932\n",
       "country            0\n",
       "cat                0\n",
       "year               0\n",
       "dtype: int64"
      ]
     },
     "execution_count": 73,
     "metadata": {},
     "output_type": "execute_result"
    }
   ],
   "source": [
    "df[\"operator\"] = df[\"operator\"].fillna(\"Unknown\")\n",
    "df.isna().sum()\n"
   ]
  },
  {
   "cell_type": "markdown",
   "id": "7dfeeced",
   "metadata": {},
   "source": []
  },
  {
   "cell_type": "code",
   "execution_count": 74,
   "id": "58687241",
   "metadata": {},
   "outputs": [
    {
     "data": {
      "text/plain": [
       "date               0\n",
       "type               0\n",
       "registration    1434\n",
       "operator           0\n",
       "fatalities         0\n",
       "location         932\n",
       "country            0\n",
       "cat                0\n",
       "year               0\n",
       "dtype: int64"
      ]
     },
     "execution_count": 74,
     "metadata": {},
     "output_type": "execute_result"
    }
   ],
   "source": [
    "df[\"fatalities\"] = df[\"operator\"].fillna(\"no fatalities\")\n",
    "df.isna().sum()"
   ]
  },
  {
   "cell_type": "code",
   "execution_count": 75,
   "id": "dc64a027",
   "metadata": {},
   "outputs": [
    {
     "data": {
      "text/plain": [
       "date               0\n",
       "type               0\n",
       "registration    1434\n",
       "operator           0\n",
       "fatalities         0\n",
       "location           0\n",
       "country            0\n",
       "cat                0\n",
       "year               0\n",
       "dtype: int64"
      ]
     },
     "execution_count": 75,
     "metadata": {},
     "output_type": "execute_result"
    }
   ],
   "source": [
    "df[\"location\"] = df[\"operator\"].fillna(\"unknown location\")\n",
    "df.isna().sum()"
   ]
  },
  {
   "cell_type": "code",
   "execution_count": 76,
   "id": "72b578f0",
   "metadata": {},
   "outputs": [
    {
     "data": {
      "text/plain": [
       "date            0\n",
       "type            0\n",
       "registration    0\n",
       "operator        0\n",
       "fatalities      0\n",
       "location        0\n",
       "country         0\n",
       "cat             0\n",
       "year            0\n",
       "dtype: int64"
      ]
     },
     "execution_count": 76,
     "metadata": {},
     "output_type": "execute_result"
    }
   ],
   "source": [
    "\n",
    "df[\"registration\"] = df[\"operator\"].fillna(\"unknown\")\n",
    "df.isna().sum()"
   ]
  }
 ],
 "metadata": {
  "kernelspec": {
   "display_name": "learn-env",
   "language": "python",
   "name": "python3"
  },
  "language_info": {
   "codemirror_mode": {
    "name": "ipython",
    "version": 3
   },
   "file_extension": ".py",
   "mimetype": "text/x-python",
   "name": "python",
   "nbconvert_exporter": "python",
   "pygments_lexer": "ipython3",
   "version": "3.8.5"
  }
 },
 "nbformat": 4,
 "nbformat_minor": 5
}
